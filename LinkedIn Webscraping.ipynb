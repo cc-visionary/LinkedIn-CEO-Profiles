{
 "cells": [
  {
   "cell_type": "code",
   "execution_count": 1,
   "metadata": {},
   "outputs": [],
   "source": [
    "# Required libraries\n",
    "\n",
    "import requests\n",
    "from bs4 import BeautifulSoup\n",
    "# from lxml import html\n",
    "\n",
    "from selenium import webdriver\n",
    "from selenium.webdriver.common.by import By\n",
    "from selenium.webdriver.common.keys import Keys\n",
    "from selenium.webdriver.chrome.options import Options\n",
    "# from selenium.webdriver.support.ui import WebDriverWait\n",
    "# from selenium.webdriver.support import expected_conditions as EC\n",
    "# from selenium.webdriver.support.ui import Select\n",
    "\n",
    "import csv\n",
    "import re"
   ]
  },
  {
   "cell_type": "code",
   "execution_count": 2,
   "metadata": {},
   "outputs": [],
   "source": [
    "# login and scrape URL\n",
    "\n",
    "login_url = 'https://www.linkedin.com/login?fromSignIn=true&trk=guest_homepage-basic_nav-header-signin'\n",
    "us_url = 'https://www.linkedin.com/search/results/people/?facetGeoRegion=%5B%22us%3A0%22%5D&origin=FACETED_SEARCH&page=2&title=CEO' # US\n",
    "ind_url = 'https://www.linkedin.com/search/results/people/?facetGeoRegion=%5B%22in%3A0%22%5D&origin=FACETED_SEARCH&page=2&title=CEO' # India\n",
    "sg_url = 'https://www.linkedin.com/search/results/people/?facetGeoRegion=%5B%22sg%3A0%22%5D&origin=FACETED_SEARCH&page=2&title=CEO' # Singapore\n",
    "ph_url = 'https://www.linkedin.com/search/results/people/?facetGeoRegion=%5B%22ph%3A0%22%5D&origin=FACETED_SEARCH&page=2&title=CEO' # Philippines\n",
    "# uk_url = \n",
    "# aust_url = "
   ]
  },
  {
   "cell_type": "code",
   "execution_count": 6,
   "metadata": {},
   "outputs": [],
   "source": [
    "# adding options\n",
    "\n",
    "chromeOptions = Options()\n",
    "chromeOptions.add_argument('--kiosk')\n",
    "chromeOptions.page_load_strategy = 'normal'\n",
    "\n",
    "driver = webdriver.Chrome('../chromedriver/chromedriver', options=chromeOptions)\n",
    "driver.get(login_url) # go to login url\n",
    "    "
   ]
  },
  {
   "cell_type": "code",
   "execution_count": 4,
   "metadata": {},
   "outputs": [],
   "source": [
    "driver.quit()"
   ]
  },
  {
   "cell_type": "code",
   "execution_count": 7,
   "metadata": {},
   "outputs": [],
   "source": [
    "username = driver.find_element_by_id('username')\n",
    "# username.send_keys('email') # Enter username\n",
    "password = driver.find_element_by_id('password')\n",
    "# password.send_keys('password') # Enter password\n",
    "    \n",
    "signin_button = driver.find_element_by_xpath(\"//button[@type='submit']\") \n",
    "signin_button.click()"
   ]
  },
  {
   "cell_type": "code",
   "execution_count": 8,
   "metadata": {},
   "outputs": [
    {
     "name": "stdout",
     "output_type": "stream",
     "text": [
      "2249\n"
     ]
    }
   ],
   "source": [
    "# load urls\n",
    "urls = []\n",
    "\n",
    "with open('profiles.txt', 'r') as f:\n",
    "    lines = f.readlines()\n",
    "    for line in lines:\n",
    "        urls.append(line[:len(line) - 1])\n",
    "        \n",
    "print(len(urls))"
   ]
  },
  {
   "cell_type": "markdown",
   "metadata": {},
   "source": [
    "# Step 1  \n",
    "Get the LinkedIn profile URLs of all people with position as CEO from different countries through searching with filtered countries."
   ]
  },
  {
   "cell_type": "code",
   "execution_count": null,
   "metadata": {},
   "outputs": [],
   "source": [
    "driver.get(us_url) # go to search url"
   ]
  },
  {
   "cell_type": "code",
   "execution_count": null,
   "metadata": {},
   "outputs": [],
   "source": [
    "driver.refresh()"
   ]
  },
  {
   "cell_type": "code",
   "execution_count": null,
   "metadata": {},
   "outputs": [],
   "source": [
    "driver.execute_script(\"window.scrollTo(0, document.body.scrollHeight);\")\n",
    "names = driver.find_elements_by_tag_name(\"a\") # select all anchor tags"
   ]
  },
  {
   "cell_type": "code",
   "execution_count": null,
   "metadata": {},
   "outputs": [],
   "source": [
    "for name in names: # filter all anchor tags with attributes which only has class = 'search-result__result-link ember-view'\n",
    "    if(name.get_attribute('class') == 'search-result__result-link ember-view'):\n",
    "        print(name.get_attribute('href'))"
   ]
  },
  {
   "cell_type": "code",
   "execution_count": null,
   "metadata": {},
   "outputs": [],
   "source": [
    "urls = [] # initialize url list"
   ]
  },
  {
   "cell_type": "code",
   "execution_count": null,
   "metadata": {},
   "outputs": [],
   "source": [
    "# for US 500+\n",
    "for i in range(1, 101):\n",
    "    driver.execute_script(\"window.scrollTo(0, document.body.scrollHeight);\") # scrolls down to load data\n",
    "    names = driver.find_elements_by_tag_name(\"a\") # select all anchor tags\n",
    "    for name in names: # filter all anchor tags with attributes which only has class = 'search-result__result-link ember-view'\n",
    "        if(name.get_attribute('class') == 'search-result__result-link ember-view' and name.get_attribute('href') not in urls):\n",
    "            urls.append(name.get_attribute('href')) # linked in profile links\n",
    "    driver.get('https://www.linkedin.com/search/results/people/?facetGeoRegion=%5B%22us%3A0%22%5D&origin=FACETED_SEARCH&page={}&title=CEO'.format(i + 1))"
   ]
  },
  {
   "cell_type": "code",
   "execution_count": null,
   "metadata": {},
   "outputs": [],
   "source": [
    "# for PH\n",
    "for i in range(1, 101):\n",
    "    driver.execute_script(\"window.scrollTo(0, document.body.scrollHeight);\") # scrolls down to load data\n",
    "    names = driver.find_elements_by_tag_name(\"a\") # select all anchor tags\n",
    "    for name in names: # filter all anchor tags with attributes which only has class = 'search-result__result-link ember-view'\n",
    "        if(name.get_attribute('class') == 'search-result__result-link ember-view' and name.get_attribute('href') not in urls):\n",
    "            urls.append(name.get_attribute('href')) # linked in profile links\n",
    "    driver.get('https://www.linkedin.com/search/results/people/?facetGeoRegion=%5B%22ph%3A0%22%5D&origin=FACETED_SEARCH&page={}&title=CEO'.format(i + 1))"
   ]
  },
  {
   "cell_type": "code",
   "execution_count": null,
   "metadata": {},
   "outputs": [],
   "source": [
    "# for Singapore\n",
    "for i in range(1, 101):\n",
    "    driver.execute_script(\"window.scrollTo(0, document.body.scrollHeight);\") # scrolls down to load data\n",
    "    names = driver.find_elements_by_tag_name(\"a\") # select all anchor tags\n",
    "    for name in names: # filter all anchor tags with attributes which only has class = 'search-result__result-link ember-view'\n",
    "        if(name.get_attribute('class') == 'search-result__result-link ember-view' and name.get_attribute('href') not in urls):\n",
    "            urls.append(name.get_attribute('href')) # linked in profile links\n",
    "    driver.get('https://www.linkedin.com/search/results/people/?facetGeoRegion=%5B%22sg%3A0%22%5D&origin=FACETED_SEARCH&page={}&title=CEO'.format(i + 1))"
   ]
  },
  {
   "cell_type": "code",
   "execution_count": null,
   "metadata": {},
   "outputs": [],
   "source": [
    "# for India\n",
    "for i in range(1, 101):\n",
    "    driver.execute_script(\"window.scrollTo(0, document.body.scrollHeight);\") # scrolls down to load data\n",
    "    names = driver.find_elements_by_tag_name(\"a\") # select all anchor tags\n",
    "    for name in names: # filter all anchor tags with attributes which only has class = 'search-result__result-link ember-view'\n",
    "        if(name.get_attribute('class') == 'search-result__result-link ember-view' and name.get_attribute('href') not in urls):\n",
    "            urls.append(name.get_attribute('href'))\n",
    "    driver.get('https://www.linkedin.com/search/results/people/?facetGeoRegion=%5B%22in%3A0%22%5D&origin=FACETED_SEARCH&page={}&title=CEO'.format(i + 1))"
   ]
  },
  {
   "cell_type": "code",
   "execution_count": null,
   "metadata": {},
   "outputs": [],
   "source": [
    "# for Japan\n",
    "for i in range(2, 50):\n",
    "    driver.execute_script(\"window.scrollTo(0, document.body.scrollHeight);\") # scrolls down to load data\n",
    "    names = driver.find_elements_by_tag_name(\"a\") # select all anchor tags\n",
    "    for name in names: # filter all anchor tags with attributes which only has class = 'search-result__result-link ember-view'\n",
    "        if(name.get_attribute('class') == 'search-result__result-link ember-view' and name.get_attribute('href') not in urls):\n",
    "            urls.append(name.get_attribute('href'))\n",
    "    driver.get('https://www.linkedin.com/search/results/people/?facetGeoRegion=%5B%22jp%3A0%22%5D&origin=FACETED_SEARCH&page={}&title=CEO'.format(i + 1))"
   ]
  },
  {
   "cell_type": "code",
   "execution_count": null,
   "metadata": {},
   "outputs": [],
   "source": [
    "print(len(urls))"
   ]
  },
  {
   "cell_type": "code",
   "execution_count": null,
   "metadata": {},
   "outputs": [],
   "source": [
    "with open('profiles.txt', 'w') as f: # write the links to a txt file for backup\n",
    "    for url in urls:\n",
    "        f.write(url + '\\n')"
   ]
  },
  {
   "cell_type": "markdown",
   "metadata": {},
   "source": [
    "# Step 2\n",
    "Open each profile and extract the following from there:\n",
    "1. Name\n",
    "2. Position\n",
    "3. Company\n",
    "4. Education\n",
    "5. Location\n",
    "6. Connections\n",
    "7. Profile Link\n",
    "8. Activities (n/a)"
   ]
  },
  {
   "cell_type": "code",
   "execution_count": null,
   "metadata": {
    "scrolled": true
   },
   "outputs": [],
   "source": [
    "# test\n",
    "driver.get(urls[1000])\n",
    "position = None\n",
    "h2Elements = driver.find_elements_by_tag_name('h2')\n",
    "for h2 in h2Elements: # get position and company\n",
    "    if(h2.get_attribute('class') == 'mt1 t-18 t-black t-normal'):\n",
    "        position = h2.text\n",
    "\n",
    "\n",
    "lis = []\n",
    "name = None\n",
    "liElements = driver.find_elements_by_tag_name('li')\n",
    "for li in liElements: # get location and followers\n",
    "    if(li.get_attribute('class') == 't-16 t-black t-normal inline-block'):\n",
    "        lis.append(li.text)\n",
    "    elif(li.get_attribute('class') == 'inline t-24 t-black t-normal break-words'):\n",
    "        name = li.text\n",
    "        \n",
    "spans = [] # spans\n",
    "connections = None\n",
    "spanElements = driver.find_elements_by_tag_name('span')\n",
    "for span in spanElements:\n",
    "    if(span.get_attribute('class') == 'text-align-left ml2 t-14 t-black t-bold full-width lt-line-clamp lt-line-clamp--multi-line ember-view'):\n",
    "        spans.append(span.text)\n",
    "    elif(span.get_attribute('class') == 't-16 t-black t-normal'):\n",
    "        connections = span.text\n",
    "        \n",
    "print(name)\n",
    "print(position)\n",
    "print(lis)\n",
    "print(connections)\n",
    "print(spans)\n",
    "print(urls[1000])"
   ]
  },
  {
   "cell_type": "code",
   "execution_count": null,
   "metadata": {
    "scrolled": true
   },
   "outputs": [],
   "source": [
    "csvFile = open('profiles.csv', 'a', newline='')\n",
    "writer = csv.writer(csvFile)\n",
    "# writer.writerow(['Name', 'Position', 'Company', 'Education', 'Location', 'Connections', 'Profile Link'])\n",
    "\n",
    "def remove_non_ascii(text): # filtering out other characters\n",
    "    return ''.join(i for i in text if ord(i)<128)\n",
    "# 1883\n",
    "for i in range(2174, 2249):\n",
    "    driver.get(urls[i])\n",
    "    position = None\n",
    "    h2Elements = driver.find_elements_by_tag_name('h2')\n",
    "    for h2 in h2Elements: # get position and company\n",
    "        if(h2.get_attribute('class') == 'mt1 t-18 t-black t-normal'):\n",
    "            position = h2.text\n",
    "\n",
    "    lis = []\n",
    "    name = None\n",
    "    location = None\n",
    "    liElements = driver.find_elements_by_tag_name('li')\n",
    "    for li in liElements: # get location and followers\n",
    "        if(li.get_attribute('class') == 't-16 t-black t-normal inline-block'):\n",
    "            lis.append(li.text)\n",
    "        elif(li.get_attribute('class') == 'inline t-24 t-black t-normal break-words'):\n",
    "            name = li.text\n",
    "\n",
    "    spans = [] # spans\n",
    "    connections = None\n",
    "    company = None\n",
    "    education = None\n",
    "    spanElements = driver.find_elements_by_tag_name('span')\n",
    "    for span in spanElements:\n",
    "        if(span.get_attribute('class') == 'text-align-left ml2 t-14 t-black t-bold full-width lt-line-clamp lt-line-clamp--multi-line ember-view'):\n",
    "            spans.append(span.text)\n",
    "        elif(span.get_attribute('class') == 't-16 t-black t-normal'):\n",
    "            connections = span.text\n",
    "    if(position != None):        \n",
    "        position = remove_non_ascii(position)\n",
    "        if(' at ' in position):\n",
    "            position = position.split(' at ')[0]\n",
    "        elif(' of ' in position):\n",
    "            position = position.split(' of ')[0]\n",
    "\n",
    "        if(('Chief Executive Officer' in position or 'CEO' in position) and ' to ' not in position):\n",
    "            position = 'CEO'\n",
    "    if(len(spans) > 1):\n",
    "        company = spans[0]\n",
    "        education = spans[1]\n",
    "        company = remove_non_ascii(company)\n",
    "        education = remove_non_ascii(education)\n",
    "    elif(len(spans) == 1):\n",
    "        company = spans[0]\n",
    "        company = remove_non_ascii(company)\n",
    "    if(len(lis) > 0):\n",
    "        location = lis[0]\n",
    "    if(connections != None):\n",
    "        connections = connections.split(' ')[0]\n",
    "    name = remove_non_ascii(name)\n",
    "    print(i, [name, position, company, education, location, connections, urls[i]])\n",
    "    writer.writerow([name, position, company, education, location, connections, urls[i]])"
   ]
  },
  {
   "cell_type": "code",
   "execution_count": null,
   "metadata": {},
   "outputs": [],
   "source": [
    "csvFile.close()\n",
    "driver.quit() # quit the driver"
   ]
  },
  {
   "cell_type": "code",
   "execution_count": null,
   "metadata": {},
   "outputs": [],
   "source": []
  }
 ],
 "metadata": {
  "kernelspec": {
   "display_name": "Python 3",
   "language": "python",
   "name": "python3"
  },
  "language_info": {
   "codemirror_mode": {
    "name": "ipython",
    "version": 3
   },
   "file_extension": ".py",
   "mimetype": "text/x-python",
   "name": "python",
   "nbconvert_exporter": "python",
   "pygments_lexer": "ipython3",
   "version": "3.8.2"
  }
 },
 "nbformat": 4,
 "nbformat_minor": 4
}
